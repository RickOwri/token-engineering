{
 "cells": [
  {
   "cell_type": "code",
   "execution_count": 1,
   "id": "aa116c44",
   "metadata": {},
   "outputs": [],
   "source": [
    "import copy"
   ]
  },
  {
   "cell_type": "code",
   "execution_count": 2,
   "id": "40fac20a",
   "metadata": {},
   "outputs": [],
   "source": [
    "genesis = {\n",
    "    \"AMM\":{\"A1\":100,\"A2\":100,\"s\":100,\"fee\":0.00},\n",
    "    \"Trader\":{\"A1\":100,\"A2\":100,\"s\":0},\n",
    "    \"LP\":{\"A1\":0,\"A2\":0,\"s\":100}\n",
    "    }"
   ]
  },
  {
   "cell_type": "code",
   "execution_count": 3,
   "id": "985e9e4b",
   "metadata": {},
   "outputs": [],
   "source": [
    "def swapToAsset2(state,inputs):\n",
    "    agent = inputs[0]\n",
    "    dA1 = inputs[1]\n",
    "    feeFactor = (1-state[\"AMM\"][\"fee\"])\n",
    "    dA2 = state[\"AMM\"][\"A2\"]/(state[\"AMM\"][\"A1\"]+dA1*feeFactor)*dA1*feeFactor\n",
    "    if dA1>0 and state[agent][\"A1\"]-dA1 >= 0 :\n",
    "        state[\"AMM\"][\"A1\"]+=dA1\n",
    "        state[agent][\"A1\"]-=dA1\n",
    "        state[\"AMM\"][\"A2\"]-=dA2\n",
    "        state[agent][\"A2\"]+=dA2 "
   ]
  },
  {
   "cell_type": "code",
   "execution_count": 10,
   "id": "3639d89d",
   "metadata": {},
   "outputs": [],
   "source": [
    "def swapToAsset1(state,inputs):\n",
    "    agent = inputs[0]\n",
    "    dA2 = inputs[1]\n",
    "    feeFactor = (1-state[\"AMM\"][\"fee\"])\n",
    "    dA1 = state[\"AMM\"][\"A1\"]/(state[\"AMM\"][\"A2\"]+dA2*feeFactor)*dA2*feeFactor\n",
    "    if dA2>0 and state[agent][\"A2\"]-dA2 >= 0 :\n",
    "        state[\"AMM\"][\"A2\"]+=dA2\n",
    "        state[agent][\"A2\"]-=dA2\n",
    "        state[\"AMM\"][\"A1\"]-=dA1\n",
    "        state[agent][\"A1\"]+=dA1 "
   ]
  },
  {
   "cell_type": "code",
   "execution_count": 5,
   "id": "00d3bff6",
   "metadata": {},
   "outputs": [],
   "source": [
    "def addLiquidity(state,inputs):\n",
    "    agent = inputs[0]\n",
    "    A1=state[\"AMM\"][\"A1\"]\n",
    "    A2=state[\"AMM\"][\"A2\"]\n",
    "    S= state[\"AMM\"][\"s\"]\n",
    "    dA1=min(inputs[1],A1/A2*inputs[2])\n",
    "    dA2=min(inputs[2],A2/A1*inputs[1])\n",
    "    if (dA1 <= state[agent][\"A1\"] and dA2 <= state[agent][\"A2\"]) and (dA1 > 0 and dA2 > 0):\n",
    "        state[agent][\"A1\"]-=dA1\n",
    "        state[agent][\"A2\"]-=dA2\n",
    "        state[\"AMM\"][\"A1\"]+=dA1\n",
    "        state[\"AMM\"][\"A2\"]+=dA2\n",
    "        dS = min(dA1/A1, dA2/A2) * S\n",
    "        state[\"AMM\"][\"s\"] += dS\n",
    "        state[agent][\"s\"]+=dS"
   ]
  },
  {
   "cell_type": "code",
   "execution_count": 6,
   "id": "a30caf44",
   "metadata": {},
   "outputs": [
    {
     "name": "stdout",
     "output_type": "stream",
     "text": [
      "[master d8bd140] add liquidity\r\n",
      " 1 file changed, 44 insertions(+), 8 deletions(-)\r\n"
     ]
    }
   ],
   "source": [
    "!git add .\n",
    "!git commit -a -m \"add liquidity\""
   ]
  },
  {
   "cell_type": "code",
   "execution_count": 7,
   "id": "d6c318b0",
   "metadata": {},
   "outputs": [],
   "source": [
    "def removeLiquidity(state,inputs):\n",
    "    dS = inputs[1]\n",
    "    agent = inputs[0]\n",
    "    if dS > 0 and state[agent][\"s\"]-dS>=0 and state[\"AMM\"][\"s\"]-dS>=0:\n",
    "        DA = (1-dS/state[\"AMM\"][\"s\"])\n",
    "        A1=state[\"AMM\"][\"A1\"]\n",
    "        A2=state[\"AMM\"][\"A2\"]\n",
    "        state[agent][\"s\"]-=dS\n",
    "        state[\"AMM\"][\"A1\"]=A1*DA\n",
    "        state[\"AMM\"][\"A2\"]=A2*DA\n",
    "        state[agent][\"A1\"]+=A1-state[\"AMM\"][\"A1\"]\n",
    "        state[agent][\"A2\"]+=A2-state[\"AMM\"][\"A2\"]\n",
    "        state[\"AMM\"][\"s\"]-=dS"
   ]
  },
  {
   "cell_type": "code",
   "execution_count": 8,
   "id": "5abaaa59",
   "metadata": {},
   "outputs": [
    {
     "data": {
      "text/plain": [
       "{'AMM': {'A1': 110, 'A2': 90.9090909090909, 's': 100, 'fee': 0.0},\n",
       " 'Trader': {'A1': 90, 'A2': 109.0909090909091, 's': 0},\n",
       " 'LP': {'A1': 0, 'A2': 0, 's': 100}}"
      ]
     },
     "execution_count": 8,
     "metadata": {},
     "output_type": "execute_result"
    }
   ],
   "source": [
    "genesis = {\n",
    "    \"AMM\":{\"A1\":100,\"A2\":100,\"s\":100,\"fee\":0.0},\n",
    "    \"Trader\":{\"A1\":100,\"A2\":100,\"s\":0},\n",
    "    \"LP\":{\"A1\":0,\"A2\":0,\"s\":100}\n",
    "    }\n",
    "\n",
    "swapToAsset2(genesis,[\"Trader\",10])\n",
    "\n",
    "genesis"
   ]
  },
  {
   "cell_type": "code",
   "execution_count": 9,
   "id": "c3c92f27",
   "metadata": {},
   "outputs": [
    {
     "ename": "KeyError",
     "evalue": "'r2'",
     "output_type": "error",
     "traceback": [
      "\u001b[0;31m---------------------------------------------------------------------------\u001b[0m",
      "\u001b[0;31mKeyError\u001b[0m                                  Traceback (most recent call last)",
      "Cell \u001b[0;32mIn[9], line 8\u001b[0m\n\u001b[1;32m      1\u001b[0m genesis \u001b[38;5;241m=\u001b[39m {\n\u001b[1;32m      2\u001b[0m     \u001b[38;5;124m\"\u001b[39m\u001b[38;5;124mAMM\u001b[39m\u001b[38;5;124m\"\u001b[39m:{\u001b[38;5;124m\"\u001b[39m\u001b[38;5;124mA1\u001b[39m\u001b[38;5;124m\"\u001b[39m:\u001b[38;5;241m100\u001b[39m,\u001b[38;5;124m\"\u001b[39m\u001b[38;5;124mA2\u001b[39m\u001b[38;5;124m\"\u001b[39m:\u001b[38;5;241m100\u001b[39m,\u001b[38;5;124m\"\u001b[39m\u001b[38;5;124ms\u001b[39m\u001b[38;5;124m\"\u001b[39m:\u001b[38;5;241m100\u001b[39m,\u001b[38;5;124m\"\u001b[39m\u001b[38;5;124mfee\u001b[39m\u001b[38;5;124m\"\u001b[39m:\u001b[38;5;241m0.0\u001b[39m},\n\u001b[1;32m      3\u001b[0m     \u001b[38;5;124m\"\u001b[39m\u001b[38;5;124mTrader\u001b[39m\u001b[38;5;124m\"\u001b[39m:{\u001b[38;5;124m\"\u001b[39m\u001b[38;5;124mA1\u001b[39m\u001b[38;5;124m\"\u001b[39m:\u001b[38;5;241m100\u001b[39m,\u001b[38;5;124m\"\u001b[39m\u001b[38;5;124mA2\u001b[39m\u001b[38;5;124m\"\u001b[39m:\u001b[38;5;241m100\u001b[39m,\u001b[38;5;124m\"\u001b[39m\u001b[38;5;124ms\u001b[39m\u001b[38;5;124m\"\u001b[39m:\u001b[38;5;241m0\u001b[39m},\n\u001b[1;32m      4\u001b[0m     \u001b[38;5;124m\"\u001b[39m\u001b[38;5;124mLP\u001b[39m\u001b[38;5;124m\"\u001b[39m:{\u001b[38;5;124m\"\u001b[39m\u001b[38;5;124mA1\u001b[39m\u001b[38;5;124m\"\u001b[39m:\u001b[38;5;241m0\u001b[39m,\u001b[38;5;124m\"\u001b[39m\u001b[38;5;124mA2\u001b[39m\u001b[38;5;124m\"\u001b[39m:\u001b[38;5;241m0\u001b[39m,\u001b[38;5;124m\"\u001b[39m\u001b[38;5;124ms\u001b[39m\u001b[38;5;124m\"\u001b[39m:\u001b[38;5;241m100\u001b[39m}\n\u001b[1;32m      5\u001b[0m     }\n\u001b[1;32m      7\u001b[0m swapToAsset2(genesis,[\u001b[38;5;124m\"\u001b[39m\u001b[38;5;124mTrader\u001b[39m\u001b[38;5;124m\"\u001b[39m,\u001b[38;5;241m10\u001b[39m])\n\u001b[0;32m----> 8\u001b[0m \u001b[43mswapToAsset1\u001b[49m\u001b[43m(\u001b[49m\u001b[43mgenesis\u001b[49m\u001b[43m,\u001b[49m\u001b[43m[\u001b[49m\u001b[38;5;124;43m\"\u001b[39;49m\u001b[38;5;124;43mTrader\u001b[39;49m\u001b[38;5;124;43m\"\u001b[39;49m\u001b[43m,\u001b[49m\u001b[38;5;241;43m9.0909090909091\u001b[39;49m\u001b[43m]\u001b[49m\u001b[43m)\u001b[49m\n\u001b[1;32m     10\u001b[0m genesis\n",
      "Cell \u001b[0;32mIn[4], line 5\u001b[0m, in \u001b[0;36mswapToAsset1\u001b[0;34m(state, inputs)\u001b[0m\n\u001b[1;32m      3\u001b[0m dA2 \u001b[38;5;241m=\u001b[39m inputs[\u001b[38;5;241m1\u001b[39m]\n\u001b[1;32m      4\u001b[0m feeFactor \u001b[38;5;241m=\u001b[39m (\u001b[38;5;241m1\u001b[39m\u001b[38;5;241m-\u001b[39mstate[\u001b[38;5;124m\"\u001b[39m\u001b[38;5;124mAMM\u001b[39m\u001b[38;5;124m\"\u001b[39m][\u001b[38;5;124m\"\u001b[39m\u001b[38;5;124mfee\u001b[39m\u001b[38;5;124m\"\u001b[39m])\n\u001b[0;32m----> 5\u001b[0m dA1 \u001b[38;5;241m=\u001b[39m state[\u001b[38;5;124m\"\u001b[39m\u001b[38;5;124mAMM\u001b[39m\u001b[38;5;124m\"\u001b[39m][\u001b[38;5;124m\"\u001b[39m\u001b[38;5;124mA1\u001b[39m\u001b[38;5;124m\"\u001b[39m]\u001b[38;5;241m/\u001b[39m(\u001b[43mstate\u001b[49m\u001b[43m[\u001b[49m\u001b[38;5;124;43m\"\u001b[39;49m\u001b[38;5;124;43mAMM\u001b[39;49m\u001b[38;5;124;43m\"\u001b[39;49m\u001b[43m]\u001b[49m\u001b[43m[\u001b[49m\u001b[38;5;124;43m\"\u001b[39;49m\u001b[38;5;124;43mr2\u001b[39;49m\u001b[38;5;124;43m\"\u001b[39;49m\u001b[43m]\u001b[49m\u001b[38;5;241m+\u001b[39mdA2\u001b[38;5;241m*\u001b[39mfeeFactor)\u001b[38;5;241m*\u001b[39mdA2\u001b[38;5;241m*\u001b[39mfeeFactor\n\u001b[1;32m      6\u001b[0m \u001b[38;5;28;01mif\u001b[39;00m dA2\u001b[38;5;241m>\u001b[39m\u001b[38;5;241m0\u001b[39m \u001b[38;5;129;01mand\u001b[39;00m state[agent][\u001b[38;5;124m\"\u001b[39m\u001b[38;5;124mA2\u001b[39m\u001b[38;5;124m\"\u001b[39m]\u001b[38;5;241m-\u001b[39mdA2 \u001b[38;5;241m>\u001b[39m\u001b[38;5;241m=\u001b[39m \u001b[38;5;241m0\u001b[39m :\n\u001b[1;32m      7\u001b[0m     state[\u001b[38;5;124m\"\u001b[39m\u001b[38;5;124mAMM\u001b[39m\u001b[38;5;124m\"\u001b[39m][\u001b[38;5;124m\"\u001b[39m\u001b[38;5;124mA2\u001b[39m\u001b[38;5;124m\"\u001b[39m]\u001b[38;5;241m+\u001b[39m\u001b[38;5;241m=\u001b[39mdA2\n",
      "\u001b[0;31mKeyError\u001b[0m: 'r2'"
     ]
    }
   ],
   "source": [
    "genesis = {\n",
    "    \"AMM\":{\"A1\":100,\"A2\":100,\"s\":100,\"fee\":0.0},\n",
    "    \"Trader\":{\"A1\":100,\"A2\":100,\"s\":0},\n",
    "    \"LP\":{\"A1\":0,\"A2\":0,\"s\":100}\n",
    "    }\n",
    "\n",
    "swapToAsset2(genesis,[\"Trader\",10])\n",
    "swapToAsset1(genesis,[\"Trader\",9.0909090909091])\n",
    "\n",
    "genesis"
   ]
  }
 ],
 "metadata": {
  "kernelspec": {
   "display_name": "Python 3 (ipykernel)",
   "language": "python",
   "name": "python3"
  },
  "language_info": {
   "codemirror_mode": {
    "name": "ipython",
    "version": 3
   },
   "file_extension": ".py",
   "mimetype": "text/x-python",
   "name": "python",
   "nbconvert_exporter": "python",
   "pygments_lexer": "ipython3",
   "version": "3.10.12"
  }
 },
 "nbformat": 4,
 "nbformat_minor": 5
}
