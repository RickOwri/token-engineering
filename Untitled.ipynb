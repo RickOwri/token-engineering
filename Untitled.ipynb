{
 "cells": [
  {
   "cell_type": "code",
   "execution_count": 1,
   "id": "b6497b7b",
   "metadata": {},
   "outputs": [],
   "source": [
    "import copy"
   ]
  },
  {
   "cell_type": "code",
   "execution_count": 2,
   "id": "42313340",
   "metadata": {},
   "outputs": [],
   "source": [
    "genesis = {\n",
    "    \"AMM\":{\"A1\":100,\"A2\":100,\"s\":100,\"fee\":0.00},\n",
    "    \"Trader\":{\"A1\":100,\"A2\":100,\"s\":0},\n",
    "    \"LP\":{\"A1\":0,\"A2\":0,\"s\":100}\n",
    "    }"
   ]
  },
  {
   "cell_type": "code",
   "execution_count": 3,
   "id": "809c649f",
   "metadata": {},
   "outputs": [],
   "source": [
    "def swapToAsset2(state,inputs):\n",
    "    agent = inputs[0]\n",
    "    dA1 = inputs[1]\n",
    "    feeFactor = (1-state[\"AMM\"][\"fee\"])\n",
    "    dA2 = state[\"AMM\"][\"A2\"]/(state[\"AMM\"][\"A1\"]+dA1*feeFactor)*dA1*feeFactor\n",
    "    if dA1>0 and state[agent][\"A1\"]-dA1 >= 0 :\n",
    "        state[\"AMM\"][\"A1\"]+=dA1\n",
    "        state[agent][\"A1\"]-=dA1\n",
    "        state[\"AMM\"][\"A2\"]-=dA2\n",
    "        state[agent][\"A2\"]+=dA2 "
   ]
  },
  {
   "cell_type": "code",
   "execution_count": 4,
   "id": "22daa5c3",
   "metadata": {},
   "outputs": [],
   "source": [
    "def swapToAsset1(state,inputs):\n",
    "    agent = inputs[0]\n",
    "    dA2 = inputs[1]\n",
    "    feeFactor = (1-state[\"AMM\"][\"fee\"])\n",
    "    dA1 = state[\"AMM\"][\"A1\"]/(state[\"AMM\"][\"r2\"]+dA2*feeFactor)*dA2*feeFactor\n",
    "    if dA2>0 and state[agent][\"A2\"]-dA2 >= 0 :\n",
    "        state[\"AMM\"][\"A2\"]+=dA2\n",
    "        state[agent][\"A2\"]-=dA2\n",
    "        state[\"AMM\"][\"A1\"]-=dA1\n",
    "        state[agent][\"A1\"]+=dA1 "
   ]
  },
  {
   "cell_type": "code",
   "execution_count": 7,
   "id": "f12d78d1",
   "metadata": {},
   "outputs": [],
   "source": [
    "def addLiquidity(state,inputs):\n",
    "    agent = inputs[0]\n",
    "    A1=state[\"AMM\"][\"A1\"]\n",
    "    A2=state[\"AMM\"][\"A2\"]\n",
    "    S= state[\"AMM\"][\"s\"]\n",
    "    dA1=min(inputs[1],A1/A2*inputs[2])\n",
    "    dA2=min(inputs[2],A2/A1*inputs[1])\n",
    "    if (dA1 <= state[agent][\"A1\"] and dA2 <= state[agent][\"A2\"]) and (dA1 > 0 and dA2 > 0):\n",
    "        state[agent][\"A1\"]-=dA1\n",
    "        state[agent][\"A2\"]-=dA2\n",
    "        state[\"AMM\"][\"A1\"]+=dA1\n",
    "        state[\"AMM\"][\"A2\"]+=dA2\n",
    "        dS = min(dA1/A1, dA2/A2) * S\n",
    "        state[\"AMM\"][\"s\"] += dS\n",
    "        state[agent][\"s\"]+=dS"
   ]
  },
  {
   "cell_type": "code",
   "execution_count": null,
   "id": "65ad070a",
   "metadata": {},
   "outputs": [],
   "source": []
  }
 ],
 "metadata": {
  "kernelspec": {
   "display_name": "Python 3 (ipykernel)",
   "language": "python",
   "name": "python3"
  },
  "language_info": {
   "codemirror_mode": {
    "name": "ipython",
    "version": 3
   },
   "file_extension": ".py",
   "mimetype": "text/x-python",
   "name": "python",
   "nbconvert_exporter": "python",
   "pygments_lexer": "ipython3",
   "version": "3.10.12"
  }
 },
 "nbformat": 4,
 "nbformat_minor": 5
}
