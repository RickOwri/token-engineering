{
 "cells": [
  {
   "cell_type": "code",
   "execution_count": 1,
   "id": "5604a41a",
   "metadata": {},
   "outputs": [],
   "source": [
    "import copy"
   ]
  },
  {
   "cell_type": "code",
   "execution_count": 2,
   "id": "1a8ad991",
   "metadata": {},
   "outputs": [],
   "source": [
    "genesis = {\n",
    "    \"AMM\":{\"A1\":100,\"A2\":100,\"s\":100,\"fee\":0.00},\n",
    "    \"Trader\":{\"A1\":100,\"A2\":100,\"s\":0},\n",
    "    \"LP\":{\"A1\":0,\"A2\":0,\"s\":100}\n",
    "    }"
   ]
  },
  {
   "cell_type": "code",
   "execution_count": 3,
   "id": "762e7e1d",
   "metadata": {},
   "outputs": [],
   "source": [
    "def swapToAsset2(state, inputs):\n",
    "    \"\"\"\n",
    "    Performs an asset swap in an Automated Market Maker (AMM) system. \n",
    "    The function simulates swapping Asset1 (A1) for Asset2 (A2) considering a given fee.\n",
    "\n",
    "    Parameters:\n",
    "    - state (dict): A dictionary representing the current state of the system.\n",
    "        * state[\"AMM\"][\"A1\"] represents the current quantity of Asset1 in the AMM.\n",
    "        * state[\"AMM\"][\"A2\"] represents the current quantity of Asset2 in the AMM.\n",
    "        * state[\"AMM\"][\"fee\"] represents the AMM's fee for the swap.\n",
    "        * state[agent][\"A1\"] represents the current quantity of Asset1 with the agent.\n",
    "        * state[agent][\"A2\"] represents the current quantity of Asset2 with the agent.\n",
    "        \n",
    "    - inputs (list): A list containing the following elements:\n",
    "        * inputs[0]: A string representing the agent's name.\n",
    "        * inputs[1]: A float representing the amount of Asset1 (dA1) the agent wishes to swap.\n",
    "    \n",
    "    Returns:\n",
    "    - None: The function modifies the state dictionary in-place without returning any value.\n",
    "\n",
    "    Note:\n",
    "    The function first calculates the amount of Asset2 (dA2) the agent will receive in exchange for dA1.\n",
    "    The amount is adjusted based on the AMM's fee. \n",
    "    The function then updates the quantities of Asset1 and Asset2 in both the AMM and the agent's state \n",
    "    if the swap conditions are met.\n",
    "    \"\"\"\n",
    "    \n",
    "    # Extract agent name and desired amount of Asset1 from inputs\n",
    "    agent = inputs[0]\n",
    "    dA1 = inputs[1]\n",
    "    \n",
    "    # Calculate the fee-adjusted amount of Asset2 (dA2) the agent will receive\n",
    "    feeFactor = (1 - state[\"AMM\"][\"fee\"])\n",
    "    dA2 = state[\"AMM\"][\"A2\"] / (state[\"AMM\"][\"A1\"] + dA1 * feeFactor) * dA1 * feeFactor\n",
    "    \n",
    "    # Check if the swap conditions are met and update the state accordingly\n",
    "    if dA1 > 0 and state[agent][\"A1\"] - dA1 >= 0:\n",
    "        state[\"AMM\"][\"A1\"] += dA1\n",
    "        state[agent][\"A1\"] -= dA1\n",
    "        state[\"AMM\"][\"A2\"] -= dA2\n",
    "        state[agent][\"A2\"] += dA2"
   ]
  },
  {
   "cell_type": "code",
   "execution_count": 4,
   "id": "c8a62dfb",
   "metadata": {},
   "outputs": [],
   "source": [
    "def swapToAsset1(state, inputs):\n",
    "    \"\"\"\n",
    "    Performs an asset swap in an Automated Market Maker (AMM) system. \n",
    "    The function simulates swapping Asset2 (A2) for Asset1 (A1) considering a given fee.\n",
    "\n",
    "    Parameters:\n",
    "    - state (dict): A dictionary representing the current state of the system.\n",
    "        * state[\"AMM\"][\"A1\"] represents the current quantity of Asset1 in the AMM.\n",
    "        * state[\"AMM\"][\"A2\"] represents the current quantity of Asset2 in the AMM.\n",
    "        * state[\"AMM\"][\"fee\"] represents the AMM's fee for the swap.\n",
    "        * state[agent][\"A1\"] represents the current quantity of Asset1 with the agent.\n",
    "        * state[agent][\"A2\"] represents the current quantity of Asset2 with the agent.\n",
    "        \n",
    "    - inputs (list): A list containing the following elements:\n",
    "        * inputs[0]: A string representing the agent's name.\n",
    "        * inputs[1]: A float representing the amount of Asset2 (dA2) the agent wishes to swap.\n",
    "    \n",
    "    Returns:\n",
    "    - None: The function modifies the state dictionary in-place without returning any value.\n",
    "\n",
    "    Note:\n",
    "    The function first calculates the amount of Asset1 (dA1) the agent will receive in exchange for dA2.\n",
    "    The amount is adjusted based on the AMM's fee. \n",
    "    The function then updates the quantities of Asset2 and Asset1 in both the AMM and the agent's state \n",
    "    if the swap conditions are met.\n",
    "    \"\"\"\n",
    "    \n",
    "    # Extract agent name and desired amount of Asset2 from inputs\n",
    "    agent = inputs[0]\n",
    "    dA2 = inputs[1]\n",
    "    \n",
    "    # Calculate the fee-adjusted amount of Asset1 (dA1) the agent will receive\n",
    "    feeFactor = (1 - state[\"AMM\"][\"fee\"])\n",
    "    dA1 = state[\"AMM\"][\"A1\"] / (state[\"AMM\"][\"A2\"] + dA2 * feeFactor) * dA2 * feeFactor\n",
    "    \n",
    "    # Check if the swap conditions are met and update the state accordingly\n",
    "    if dA2 > 0 and state[agent][\"A2\"] - dA2 >= 0:\n",
    "        state[\"AMM\"][\"A2\"] += dA2\n",
    "        state[agent][\"A2\"] -= dA2\n",
    "        state[\"AMM\"][\"A1\"] -= dA1\n",
    "        state[agent][\"A1\"] += dA1"
   ]
  },
  {
   "cell_type": "code",
   "execution_count": 10,
   "id": "ef7acda2",
   "metadata": {},
   "outputs": [],
   "source": [
    "def addLiquidity(state,inputs):\n",
    "    agent = inputs[0]\n",
    "    A1=state[\"AMM\"][\"A1\"]\n",
    "    A2=state[\"AMM\"][\"A2\"]\n",
    "    S= state[\"AMM\"][\"s\"]\n",
    "    dA1=min(inputs[1],A1/A2*inputs[2])\n",
    "    dA2=min(inputs[2],A2/A1*inputs[1])\n",
    "    if (dA1 <= state[agent][\"A1\"] and dA2 <= state[agent][\"A2\"]) and (dA1 > 0 and dA2 > 0):\n",
    "        state[agent][\"A1\"]-=dA1\n",
    "        state[agent][\"A2\"]-=dA2\n",
    "        state[\"AMM\"][\"A1\"]+=dA1\n",
    "        state[\"AMM\"][\"A2\"]+=dA2\n",
    "        dS = min(dA1/A1, dA2/A2) * S\n",
    "        state[\"AMM\"][\"s\"] += dS\n",
    "        state[agent][\"s\"]+=dS"
   ]
  },
  {
   "cell_type": "code",
   "execution_count": 6,
   "id": "45500e04",
   "metadata": {},
   "outputs": [
    {
     "name": "stdout",
     "output_type": "stream",
     "text": [
      "[master d7ec13a] add liquidity\r\n",
      " 1 file changed, 77 insertions(+), 16 deletions(-)\r\n"
     ]
    }
   ],
   "source": [
    "!git add .\n",
    "!git commit -a -m \"add liquidity\""
   ]
  },
  {
   "cell_type": "code",
   "execution_count": 7,
   "id": "860ffe8b",
   "metadata": {},
   "outputs": [],
   "source": [
    "def addLiquidity(state, inputs):\n",
    "    \"\"\"\n",
    "    Adds liquidity to an Automated Market Maker (AMM) system.\n",
    "\n",
    "    Parameters:\n",
    "    - state (dict): A dictionary representing the current state of the system.\n",
    "        * state[\"AMM\"][\"A1\"] represents the current quantity of Asset1 in the AMM.\n",
    "        * state[\"AMM\"][\"A2\"] represents the current quantity of Asset2 in the AMM.\n",
    "        * state[\"AMM\"][\"s\"] represents the total supply of liquidity tokens in the AMM.\n",
    "        * state[agent][\"A1\"] represents the current quantity of Asset1 with the agent.\n",
    "        * state[agent][\"A2\"] represents the current quantity of Asset2 with the agent.\n",
    "        * state[agent][\"s\"] represents the quantity of liquidity tokens held by the agent.\n",
    "        \n",
    "    - inputs (list): A list containing the following elements:\n",
    "        * inputs[0]: A string representing the agent's name.\n",
    "        * inputs[1]: A float representing the maximum amount of Asset1 (dA1) the agent wishes to add.\n",
    "        * inputs[2]: A float representing the maximum amount of Asset2 (dA2) the agent wishes to add.\n",
    "    \n",
    "    Returns:\n",
    "    - None: The function modifies the state dictionary in-place without returning any value.\n",
    "\n",
    "    Note:\n",
    "    The function calculates the amount of Asset1 (dA1) and Asset2 (dA2) the agent can add as liquidity.\n",
    "    It checks if the agent has enough assets to add liquidity and if the input amounts are greater than zero.\n",
    "    If the conditions are met, it updates the quantities of Asset1, Asset2, and liquidity tokens in both the AMM\n",
    "    and the agent's state.\n",
    "    \"\"\"\n",
    "    \n",
    "    # Extract agent name, current AMM state, and input amounts\n",
    "    agent = inputs[0]\n",
    "    A1 = state[\"AMM\"][\"A1\"]\n",
    "    A2 = state[\"AMM\"][\"A2\"]\n",
    "    S = state[\"AMM\"][\"s\"]\n",
    "    max_dA1 = inputs[1]\n",
    "    max_dA2 = inputs[2]\n",
    "    \n",
    "    # Calculate the actual amounts of Asset1 (dA1) and Asset2 (dA2) to add as liquidity\n",
    "    dA1 = min(max_dA1, A1 / A2 * max_dA2)\n",
    "    dA2 = min(max_dA2, A2 / A1 * max_dA1)\n",
    "    \n",
    "    # Check if the agent has enough assets to add liquidity and if the input amounts are greater than zero\n",
    "    if (dA1 <= state[agent][\"A1\"] and dA2 <= state[agent][\"A2\"]) and (dA1 > 0 and dA2 > 0):\n",
    "        # Update agent's asset and liquidity token balances\n",
    "        state[agent][\"A1\"] -= dA1\n",
    "        state[agent][\"A2\"] -= dA2\n",
    "        state[agent][\"s\"] += min(dA1 / A1, dA2 / A2) * S\n",
    "        \n",
    "        # Update AMM's asset and liquidity token balances\n",
    "        state[\"AMM\"][\"A1\"] += dA1\n",
    "        state[\"AMM\"][\"A2\"] += dA2\n",
    "        state[\"AMM\"][\"s\"] += min(dA1 / A1, dA2 / A2) * S\n"
   ]
  },
  {
   "cell_type": "code",
   "execution_count": 8,
   "id": "db7ba503",
   "metadata": {},
   "outputs": [
    {
     "data": {
      "text/plain": [
       "{'AMM': {'A1': 110, 'A2': 90.9090909090909, 's': 100, 'fee': 0.0},\n",
       " 'Trader': {'A1': 90, 'A2': 109.0909090909091, 's': 0},\n",
       " 'LP': {'A1': 0, 'A2': 0, 's': 100}}"
      ]
     },
     "execution_count": 8,
     "metadata": {},
     "output_type": "execute_result"
    }
   ],
   "source": [
    "genesis = {\n",
    "    \"AMM\":{\"A1\":100,\"A2\":100,\"s\":100,\"fee\":0.0},\n",
    "    \"Trader\":{\"A1\":100,\"A2\":100,\"s\":0},\n",
    "    \"LP\":{\"A1\":0,\"A2\":0,\"s\":100}\n",
    "    }\n",
    "\n",
    "swapToAsset2(genesis,[\"Trader\",10])\n",
    "\n",
    "genesis"
   ]
  },
  {
   "cell_type": "code",
   "execution_count": 9,
   "id": "bb069832",
   "metadata": {},
   "outputs": [
    {
     "data": {
      "text/plain": [
       "{'AMM': {'A1': 99.99999999999999, 'A2': 100.0, 's': 100, 'fee': 0.0},\n",
       " 'Trader': {'A1': 100.00000000000001, 'A2': 100.0, 's': 0},\n",
       " 'LP': {'A1': 0, 'A2': 0, 's': 100}}"
      ]
     },
     "execution_count": 9,
     "metadata": {},
     "output_type": "execute_result"
    }
   ],
   "source": [
    "genesis = {\n",
    "    \"AMM\":{\"A1\":100,\"A2\":100,\"s\":100,\"fee\":0.0},\n",
    "    \"Trader\":{\"A1\":100,\"A2\":100,\"s\":0},\n",
    "    \"LP\":{\"A1\":0,\"A2\":0,\"s\":100}\n",
    "    }\n",
    "\n",
    "swapToAsset2(genesis,[\"Trader\",10])\n",
    "swapToAsset1(genesis,[\"Trader\",9.0909090909091])\n",
    "\n",
    "genesis"
   ]
  }
 ],
 "metadata": {
  "kernelspec": {
   "display_name": "Python 3 (ipykernel)",
   "language": "python",
   "name": "python3"
  },
  "language_info": {
   "codemirror_mode": {
    "name": "ipython",
    "version": 3
   },
   "file_extension": ".py",
   "mimetype": "text/x-python",
   "name": "python",
   "nbconvert_exporter": "python",
   "pygments_lexer": "ipython3",
   "version": "3.10.12"
  }
 },
 "nbformat": 4,
 "nbformat_minor": 5
}
