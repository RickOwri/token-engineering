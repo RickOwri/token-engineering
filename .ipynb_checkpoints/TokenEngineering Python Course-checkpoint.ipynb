{
 "cells": [
  {
   "cell_type": "code",
   "execution_count": 1,
   "id": "5604a41a",
   "metadata": {},
   "outputs": [],
   "source": [
    "import copy"
   ]
  },
  {
   "cell_type": "code",
   "execution_count": 2,
   "id": "1a8ad991",
   "metadata": {},
   "outputs": [],
   "source": [
    "genesis = {\n",
    "    \"AMM\":{\"A1\":100,\"A2\":100,\"s\":100,\"fee\":0.00},\n",
    "    \"Trader\":{\"A1\":100,\"A2\":100,\"s\":0},\n",
    "    \"LP\":{\"A1\":0,\"A2\":0,\"s\":100}\n",
    "    }"
   ]
  },
  {
   "cell_type": "code",
   "execution_count": 3,
   "id": "762e7e1d",
   "metadata": {},
   "outputs": [],
   "source": [
    "def swapToAsset2(state, inputs):\n",
    "    \"\"\"\n",
    "    Performs an asset swap in an Automated Market Maker (AMM) system. \n",
    "    The function simulates swapping Asset1 (A1) for Asset2 (A2) considering a given fee.\n",
    "\n",
    "    Parameters:\n",
    "    - state (dict): A dictionary representing the current state of the system.\n",
    "        * state[\"AMM\"][\"A1\"] represents the current quantity of Asset1 in the AMM.\n",
    "        * state[\"AMM\"][\"A2\"] represents the current quantity of Asset2 in the AMM.\n",
    "        * state[\"AMM\"][\"fee\"] represents the AMM's fee for the swap.\n",
    "        * state[agent][\"A1\"] represents the current quantity of Asset1 with the agent.\n",
    "        * state[agent][\"A2\"] represents the current quantity of Asset2 with the agent.\n",
    "        \n",
    "    - inputs (list): A list containing the following elements:\n",
    "        * inputs[0]: A string representing the agent's name.\n",
    "        * inputs[1]: A float representing the amount of Asset1 (dA1) the agent wishes to swap.\n",
    "    \n",
    "    Returns:\n",
    "    - None: The function modifies the state dictionary in-place without returning any value.\n",
    "\n",
    "    Note:\n",
    "    The function first calculates the amount of Asset2 (dA2) the agent will receive in exchange for dA1.\n",
    "    The amount is adjusted based on the AMM's fee. \n",
    "    The function then updates the quantities of Asset1 and Asset2 in both the AMM and the agent's state \n",
    "    if the swap conditions are met.\n",
    "    \"\"\"\n",
    "    \n",
    "    # Extract agent name and desired amount of Asset1 from inputs\n",
    "    agent = inputs[0]\n",
    "    dA1 = inputs[1]\n",
    "    \n",
    "    # Calculate the fee-adjusted amount of Asset2 (dA2) the agent will receive\n",
    "    feeFactor = (1 - state[\"AMM\"][\"fee\"])\n",
    "    dA2 = state[\"AMM\"][\"A2\"] / (state[\"AMM\"][\"A1\"] + dA1 * feeFactor) * dA1 * feeFactor\n",
    "    \n",
    "    # Check if the swap conditions are met and update the state accordingly\n",
    "    if dA1 > 0 and state[agent][\"A1\"] - dA1 >= 0:\n",
    "        state[\"AMM\"][\"A1\"] += dA1\n",
    "        state[agent][\"A1\"] -= dA1\n",
    "        state[\"AMM\"][\"A2\"] -= dA2\n",
    "        state[agent][\"A2\"] += dA2"
   ]
  },
  {
   "cell_type": "code",
   "execution_count": 4,
   "id": "c8a62dfb",
   "metadata": {},
   "outputs": [],
   "source": [
    "def swapToAsset1(state, inputs):\n",
    "    \"\"\"\n",
    "    Performs an asset swap in an Automated Market Maker (AMM) system. \n",
    "    The function simulates swapping Asset2 (A2) for Asset1 (A1) considering a given fee.\n",
    "\n",
    "    Parameters:\n",
    "    - state (dict): A dictionary representing the current state of the system.\n",
    "        * state[\"AMM\"][\"A1\"] represents the current quantity of Asset1 in the AMM.\n",
    "        * state[\"AMM\"][\"A2\"] represents the current quantity of Asset2 in the AMM.\n",
    "        * state[\"AMM\"][\"fee\"] represents the AMM's fee for the swap.\n",
    "        * state[agent][\"A1\"] represents the current quantity of Asset1 with the agent.\n",
    "        * state[agent][\"A2\"] represents the current quantity of Asset2 with the agent.\n",
    "        \n",
    "    - inputs (list): A list containing the following elements:\n",
    "        * inputs[0]: A string representing the agent's name.\n",
    "        * inputs[1]: A float representing the amount of Asset2 (dA2) the agent wishes to swap.\n",
    "    \n",
    "    Returns:\n",
    "    - None: The function modifies the state dictionary in-place without returning any value.\n",
    "\n",
    "    Note:\n",
    "    The function first calculates the amount of Asset1 (dA1) the agent will receive in exchange for dA2.\n",
    "    The amount is adjusted based on the AMM's fee. \n",
    "    The function then updates the quantities of Asset2 and Asset1 in both the AMM and the agent's state \n",
    "    if the swap conditions are met.\n",
    "    \"\"\"\n",
    "    \n",
    "    # Extract agent name and desired amount of Asset2 from inputs\n",
    "    agent = inputs[0]\n",
    "    dA2 = inputs[1]\n",
    "    \n",
    "    # Calculate the fee-adjusted amount of Asset1 (dA1) the agent will receive\n",
    "    feeFactor = (1 - state[\"AMM\"][\"fee\"])\n",
    "    dA1 = state[\"AMM\"][\"A1\"] / (state[\"AMM\"][\"A2\"] + dA2 * feeFactor) * dA2 * feeFactor\n",
    "    \n",
    "    # Check if the swap conditions are met and update the state accordingly\n",
    "    if dA2 > 0 and state[agent][\"A2\"] - dA2 >= 0:\n",
    "        state[\"AMM\"][\"A2\"] += dA2\n",
    "        state[agent][\"A2\"] -= dA2\n",
    "        state[\"AMM\"][\"A1\"] -= dA1\n",
    "        state[agent][\"A1\"] += dA1"
   ]
  },
  {
   "cell_type": "code",
   "execution_count": null,
   "id": "ef7acda2",
   "metadata": {},
   "outputs": [],
   "source": []
  },
  {
   "cell_type": "code",
   "execution_count": 5,
   "id": "45500e04",
   "metadata": {},
   "outputs": [
    {
     "name": "stdout",
     "output_type": "stream",
     "text": [
      "[master 750a42a] evolve function\r\n",
      " 3 files changed, 138 insertions(+), 171 deletions(-)\r\n"
     ]
    }
   ],
   "source": [
    "!git add .\n",
    "!git commit -a -m \"evolve function\""
   ]
  },
  {
   "cell_type": "code",
   "execution_count": 6,
   "id": "860ffe8b",
   "metadata": {},
   "outputs": [],
   "source": [
    "def addLiquidity(state, inputs):\n",
    "    \"\"\"\n",
    "    Adds liquidity to an Automated Market Maker (AMM) system.\n",
    "\n",
    "    Parameters:\n",
    "    - state (dict): A dictionary representing the current state of the system.\n",
    "        * state[\"AMM\"][\"A1\"] represents the current quantity of Asset1 in the AMM.\n",
    "        * state[\"AMM\"][\"A2\"] represents the current quantity of Asset2 in the AMM.\n",
    "        * state[\"AMM\"][\"s\"] represents the total supply of liquidity tokens in the AMM.\n",
    "        * state[agent][\"A1\"] represents the current quantity of Asset1 with the agent.\n",
    "        * state[agent][\"A2\"] represents the current quantity of Asset2 with the agent.\n",
    "        * state[agent][\"s\"] represents the quantity of liquidity tokens held by the agent.\n",
    "        \n",
    "    - inputs (list): A list containing the following elements:\n",
    "        * inputs[0]: A string representing the agent's name.\n",
    "        * inputs[1]: A float representing the maximum amount of Asset1 (dA1) the agent wishes to add.\n",
    "        * inputs[2]: A float representing the maximum amount of Asset2 (dA2) the agent wishes to add.\n",
    "    \n",
    "    Returns:\n",
    "    - None: The function modifies the state dictionary in-place without returning any value.\n",
    "\n",
    "    Note:\n",
    "    The function calculates the amount of Asset1 (dA1) and Asset2 (dA2) the agent can add as liquidity.\n",
    "    It checks if the agent has enough assets to add liquidity and if the input amounts are greater than zero.\n",
    "    If the conditions are met, it updates the quantities of Asset1, Asset2, and liquidity tokens in both the AMM\n",
    "    and the agent's state.\n",
    "    \"\"\"\n",
    "    \n",
    "    # Extract agent name, current AMM state, and input amounts\n",
    "    agent = inputs[0]\n",
    "    A1 = state[\"AMM\"][\"A1\"]\n",
    "    A2 = state[\"AMM\"][\"A2\"]\n",
    "    S = state[\"AMM\"][\"s\"]\n",
    "    max_dA1 = inputs[1]\n",
    "    max_dA2 = inputs[2]\n",
    "    \n",
    "    # Calculate the actual amounts of Asset1 (dA1) and Asset2 (dA2) to add as liquidity\n",
    "    dA1 = min(max_dA1, A1 / A2 * max_dA2)\n",
    "    dA2 = min(max_dA2, A2 / A1 * max_dA1)\n",
    "    \n",
    "    # Check if the agent has enough assets to add liquidity and if the input amounts are greater than zero\n",
    "    if (dA1 <= state[agent][\"A1\"] and dA2 <= state[agent][\"A2\"]) and (dA1 > 0 and dA2 > 0):\n",
    "        # Update agent's asset and liquidity token balances\n",
    "        state[agent][\"A1\"] -= dA1\n",
    "        state[agent][\"A2\"] -= dA2\n",
    "        state[agent][\"s\"] += min(dA1 / A1, dA2 / A2) * S\n",
    "        \n",
    "        # Update AMM's asset and liquidity token balances\n",
    "        state[\"AMM\"][\"A1\"] += dA1\n",
    "        state[\"AMM\"][\"A2\"] += dA2\n",
    "        state[\"AMM\"][\"s\"] += min(dA1 / A1, dA2 / A2) * S\n"
   ]
  },
  {
   "cell_type": "code",
   "execution_count": 7,
   "id": "e65c03aa",
   "metadata": {},
   "outputs": [],
   "source": [
    "def removeLiquidity(state, inputs):\n",
    "    \"\"\"\n",
    "    Removes liquidity from an Automated Market Maker (AMM) and updates the agent's and AMM's state.\n",
    "\n",
    "    Args:\n",
    "        state (dict): The current state of the AMM and agents.\n",
    "            Example state structure:\n",
    "            {\n",
    "                \"AMM\": {\n",
    "                    \"s\": 1000,  # Total liquidity in the AMM\n",
    "                    \"A1\": 500,   # Asset 1 balance in the AMM\n",
    "                    \"A2\": 500    # Asset 2 balance in the AMM\n",
    "                },\n",
    "                \"agent\": {\n",
    "                    \"s\": 100,   # Total liquidity owned by the agent\n",
    "                    \"A1\": 50,   # Asset 1 balance owned by the agent\n",
    "                    \"A2\": 50    # Asset 2 balance owned by the agent\n",
    "                }\n",
    "            }\n",
    "        inputs (list): A list containing two elements.\n",
    "            - inputs[0] (str): The agent's identifier.\n",
    "            - inputs[1] (float): The amount of liquidity to remove from the AMM.\n",
    "\n",
    "    Returns:\n",
    "        None: This function modifies the 'state' dictionary in place and does not return a value.\n",
    "\n",
    "    Note:\n",
    "        - This function removes liquidity from the AMM and updates the agent's state.\n",
    "        - It checks if the agent has sufficient liquidity and if the AMM has enough liquidity to remove.\n",
    "        - The function then calculates the new AMM balances and updates the agent's balances accordingly.\n",
    "        - It does not return a value but directly modifies the 'state' dictionary.\n",
    "    \"\"\"\n",
    "\n",
    "    agent = inputs[0]\n",
    "    dS = inputs[1]\n",
    "\n",
    "    if dS > 0 and state[agent][\"s\"] - dS >= 0 and state[\"AMM\"][\"s\"] - dS >= 0:\n",
    "        # Calculate the proportional decrease in AMM balances\n",
    "        DA = (1 - dS / state[\"AMM\"][\"s\"])\n",
    "        \n",
    "        # Store initial AMM balances\n",
    "        A1 = state[\"AMM\"][\"A1\"]\n",
    "        A2 = state[\"AMM\"][\"A2\"]\n",
    "\n",
    "        # Update agent's liquidity and asset balances\n",
    "        state[agent][\"s\"] -= dS\n",
    "        state[agent][\"A1\"] += A1 - state[\"AMM\"][\"A1\"]\n",
    "        state[agent][\"A2\"] += A2 - state[\"AMM\"][\"A2\"]\n",
    "\n",
    "        # Update AMM balances\n",
    "        state[\"AMM\"][\"A1\"] = A1 * DA\n",
    "        state[\"AMM\"][\"A2\"] = A2 * DA\n",
    "\n",
    "        # Update total AMM liquidity\n",
    "        state[\"AMM\"][\"s\"] -= dS\n"
   ]
  },
  {
   "cell_type": "code",
   "execution_count": 8,
   "id": "db7ba503",
   "metadata": {},
   "outputs": [
    {
     "data": {
      "text/plain": [
       "{'AMM': {'A1': 110, 'A2': 90.9090909090909, 's': 100, 'fee': 0.0},\n",
       " 'Trader': {'A1': 90, 'A2': 109.0909090909091, 's': 0},\n",
       " 'LP': {'A1': 0, 'A2': 0, 's': 100}}"
      ]
     },
     "execution_count": 8,
     "metadata": {},
     "output_type": "execute_result"
    }
   ],
   "source": [
    "genesis = {\n",
    "    \"AMM\":{\"A1\":100,\"A2\":100,\"s\":100,\"fee\":0.0},\n",
    "    \"Trader\":{\"A1\":100,\"A2\":100,\"s\":0},\n",
    "    \"LP\":{\"A1\":0,\"A2\":0,\"s\":100}\n",
    "    }\n",
    "\n",
    "# from genesis , Trader agent will swap 10 of asset1 to get asset 2\n",
    "swapToAsset2(genesis,[\"Trader\",10])\n",
    "\n",
    "genesis"
   ]
  },
  {
   "cell_type": "code",
   "execution_count": 9,
   "id": "bb069832",
   "metadata": {},
   "outputs": [
    {
     "data": {
      "text/plain": [
       "{'AMM': {'A1': 99.99999999999999, 'A2': 100.0, 's': 100, 'fee': 0.0},\n",
       " 'Trader': {'A1': 100.00000000000001, 'A2': 100.0, 's': 0},\n",
       " 'LP': {'A1': 0, 'A2': 0, 's': 100}}"
      ]
     },
     "execution_count": 9,
     "metadata": {},
     "output_type": "execute_result"
    }
   ],
   "source": [
    "genesis = {\n",
    "    \"AMM\":{\"A1\":100,\"A2\":100,\"s\":100,\"fee\":0.0},\n",
    "    \"Trader\":{\"A1\":100,\"A2\":100,\"s\":0},\n",
    "    \"LP\":{\"A1\":0,\"A2\":0,\"s\":100}\n",
    "    }\n",
    "\n",
    "# in a next state, Trader will exchange 10 Asset1 for Asset2\n",
    "swapToAsset2(genesis,[\"Trader\",10])\n",
    "\n",
    "# in a next state, Trader will exchange 10 Asset2 for Asset1\n",
    "swapToAsset1(genesis,[\"Trader\",9.0909090909091])\n",
    "\n",
    "genesis"
   ]
  },
  {
   "cell_type": "code",
   "execution_count": 10,
   "id": "6c5baf7a",
   "metadata": {},
   "outputs": [],
   "source": [
    "def nice_print(self):\n",
    "    \"\"\"\n",
    "    A function for printing or formatting different types of data nicely.\n",
    "\n",
    "    Args:\n",
    "        self: Any data type (float, int, list, dict)\n",
    "\n",
    "    Returns:\n",
    "        Depending on the data type of 'self':\n",
    "        - If 'self' is a float, it returns the rounded value with 3 decimal places.\n",
    "        - If 'self' is an int, it returns the integer value unchanged.\n",
    "        - If 'self' is a list, it prints each element of the list and returns None.\n",
    "        - If 'self' is a dictionary, it prints each key-value pair and returns None.\n",
    "    \n",
    "    Note:\n",
    "        - This function prints elements of a list or key-value pairs of a dictionary\n",
    "          and returns None for those cases. If you want to capture the printed values,\n",
    "          consider using a different approach like appending them to a list.\n",
    "    \"\"\"\n",
    "\n",
    "    if type(self) == float:\n",
    "        # If 'self' is a float, round it to 3 decimal places and return.\n",
    "        return round(self, 3)\n",
    "\n",
    "    if type(self) == int:\n",
    "        # If 'self' is an int, return it unchanged.\n",
    "        return self\n",
    "\n",
    "    if type(self) == list:\n",
    "        # If 'self' is a list, print each element and return None.\n",
    "        list(map(lambda L: print(L), self))\n",
    "        return None\n",
    "\n",
    "    if type(self) == dict:\n",
    "        # If 'self' is a dictionary, print each key-value pair and return None.\n",
    "        dict(map(lambda kv: (kv[0], print(kv[1])), self.items()))\n",
    "        return None\n",
    "\n",
    "# Example usages:\n",
    "# For floats and ints, it returns the value as specified.\n",
    "# For lists and dictionaries, it prints the elements/pairs and returns None."
   ]
  },
  {
   "cell_type": "code",
   "execution_count": 11,
   "id": "a92ae775",
   "metadata": {},
   "outputs": [],
   "source": [
    "actionList = [\n",
    "        [ removeLiquidity , [  \"LP\" , 5 ]],\n",
    "        [ removeLiquidity , [  \"LP\" , 5 ]],\n",
    "        [ removeLiquidity , [  \"LP\" , 5 ]]\n",
    "]"
   ]
  },
  {
   "cell_type": "code",
   "execution_count": 12,
   "id": "5af18223",
   "metadata": {},
   "outputs": [
    {
     "data": {
      "text/plain": [
       "[[<function __main__.removeLiquidity(state, inputs)>, ['LP', 5]],\n",
       " [<function __main__.removeLiquidity(state, inputs)>, ['LP', 5]],\n",
       " [<function __main__.removeLiquidity(state, inputs)>, ['LP', 5]]]"
      ]
     },
     "execution_count": 12,
     "metadata": {},
     "output_type": "execute_result"
    }
   ],
   "source": [
    "actionList"
   ]
  },
  {
   "cell_type": "code",
   "execution_count": 13,
   "id": "af0c1c32",
   "metadata": {},
   "outputs": [],
   "source": [
    "def evolve(state, actionStack):\n",
    "    history = [copy.deepcopy(state)]\n",
    "    for action in actionStack:\n",
    "        action[0](state,action[1])\n",
    "        history.append(copy.deepcopy(state))\n",
    "    return history "
   ]
  },
  {
   "cell_type": "code",
   "execution_count": 14,
   "id": "8bafa5e2",
   "metadata": {},
   "outputs": [
    {
     "data": {
      "text/plain": [
       "[{'AMM': {'A1': 99.99999999999999, 'A2': 100.0, 's': 100, 'fee': 0.0},\n",
       "  'Trader': {'A1': 100.00000000000001, 'A2': 100.0, 's': 0},\n",
       "  'LP': {'A1': 0, 'A2': 0, 's': 100}},\n",
       " {'AMM': {'A1': 94.99999999999999, 'A2': 95.0, 's': 95, 'fee': 0.0},\n",
       "  'Trader': {'A1': 100.00000000000001, 'A2': 100.0, 's': 0},\n",
       "  'LP': {'A1': 0.0, 'A2': 0.0, 's': 95}},\n",
       " {'AMM': {'A1': 89.99999999999999, 'A2': 90.0, 's': 90, 'fee': 0.0},\n",
       "  'Trader': {'A1': 100.00000000000001, 'A2': 100.0, 's': 0},\n",
       "  'LP': {'A1': 0.0, 'A2': 0.0, 's': 90}},\n",
       " {'AMM': {'A1': 84.99999999999999, 'A2': 85.0, 's': 85, 'fee': 0.0},\n",
       "  'Trader': {'A1': 100.00000000000001, 'A2': 100.0, 's': 0},\n",
       "  'LP': {'A1': 0.0, 'A2': 0.0, 's': 85}}]"
      ]
     },
     "execution_count": 14,
     "metadata": {},
     "output_type": "execute_result"
    }
   ],
   "source": [
    "evolve(genesis, actionList)"
   ]
  },
  {
   "cell_type": "code",
   "execution_count": 15,
   "id": "11b513b7",
   "metadata": {},
   "outputs": [
    {
     "name": "stdout",
     "output_type": "stream",
     "text": [
      "On branch master\r\n",
      "nothing to commit, working tree clean\r\n"
     ]
    },
    {
     "data": {
      "text/plain": [
       "[{'AMM': {'A1': 100, 'A2': 100, 's': 100, 'fee': 0.0},\n",
       "  'Trader': {'A1': 100, 'A2': 100, 's': 0},\n",
       "  'LP': {'A1': 0, 'A2': 0, 's': 100}},\n",
       " {'AMM': {'A1': 150, 'A2': 66.66666666666667, 's': 100, 'fee': 0.0},\n",
       "  'Trader': {'A1': 50, 'A2': 133.33333333333331, 's': 0},\n",
       "  'LP': {'A1': 0, 'A2': 0, 's': 100}},\n",
       " {'AMM': {'A1': 109.0909090909091,\n",
       "   'A2': 91.66666666666667,\n",
       "   's': 100,\n",
       "   'fee': 0.0},\n",
       "  'Trader': {'A1': 90.9090909090909, 'A2': 108.33333333333331, 's': 0},\n",
       "  'LP': {'A1': 0, 'A2': 0, 's': 100}}]"
      ]
     },
     "execution_count": 15,
     "metadata": {},
     "output_type": "execute_result"
    }
   ],
   "source": [
    "genesis = {\n",
    "    \"AMM\":{\"A1\":100,\"A2\":100,\"s\":100,\"fee\":0.0},\n",
    "    \"Trader\":{\"A1\":100,\"A2\":100,\"s\":0},\n",
    "    \"LP\":{\"A1\":0,\"A2\":0,\"s\":100}\n",
    "    }\n",
    "\n",
    "actionList2 = [\n",
    "        [ swapToAsset2 , [  \"Trader\" , 50 ]],\n",
    "        [ swapToAsset1 , [  \"Trader\" , 25 ]],\n",
    "]\n",
    "\n",
    "!git commit -m \"actionList2update\"\n",
    "evolve(genesis, actionList2)\n"
   ]
  },
  {
   "cell_type": "code",
   "execution_count": null,
   "id": "d5a28d87",
   "metadata": {},
   "outputs": [],
   "source": []
  },
  {
   "cell_type": "code",
   "execution_count": 16,
   "id": "862466ed",
   "metadata": {},
   "outputs": [],
   "source": [
    "# the trader might be surprised because sum(A1,A2)1<sum(A1,A2)"
   ]
  },
  {
   "cell_type": "code",
   "execution_count": 17,
   "id": "ac22eca1",
   "metadata": {},
   "outputs": [],
   "source": [
    "# check_genesis_block that returns True if all inputs to the genesis block are valid, and False if there are invalid inputs. \n",
    "def check_genesis_block(genesis_block):\n",
    "    \"\"\"\n",
    "    Check if all inputs to the custom Genesis block format are valid.\n",
    "\n",
    "    Args:\n",
    "        genesis_block (dict): The custom Genesis block format.\n",
    "            Example structure:\n",
    "            {\n",
    "                \"AMM\": {\n",
    "                    \"A1\": 100,\n",
    "                    \"A2\": 100,\n",
    "                    \"s\": 100,\n",
    "                    \"fee\": 0.0\n",
    "                },\n",
    "                \"Trader\": {\n",
    "                    \"A1\": 100,\n",
    "                    \"A2\": 100,\n",
    "                    \"s\": 0\n",
    "                },\n",
    "                \"LP\": {\n",
    "                    \"A1\": 0,\n",
    "                    \"A2\": 0,\n",
    "                    \"s\": 100\n",
    "                }\n",
    "            }\n",
    "\n",
    "    Returns:\n",
    "        bool: True if all inputs are valid, False otherwise.\n",
    "\n",
    "    Note:\n",
    "        - This function checks the validity of the inputs in the custom Genesis block format.\n",
    "        - It validates the structure and types of fields according to the provided format.\n",
    "        - Additional checks can be added for specific requirements.\n",
    "    \"\"\"\n",
    "\n",
    "def check_genesis_block(genesis_block):\n",
    "    \"\"\"\n",
    "    Check if all inputs to the custom Genesis block format are valid.\n",
    "\n",
    "    Args:\n",
    "        genesis_block (dict): The custom Genesis block format.\n",
    "            Example structure:\n",
    "            {\n",
    "                \"AMM\": {\n",
    "                    \"A1\": 100,\n",
    "                    \"A2\": 100,\n",
    "                    \"s\": 100,\n",
    "                    \"fee\": 0.0\n",
    "                },\n",
    "                \"Trader\": {\n",
    "                    \"A1\": 100,\n",
    "                    \"A2\": 100,\n",
    "                    \"s\": 0\n",
    "                },\n",
    "                \"LP\": {\n",
    "                    \"A1\": 0,\n",
    "                    \"A2\": 0,\n",
    "                    \"s\": 100\n",
    "                }\n",
    "            }\n",
    "\n",
    "    Returns:\n",
    "        bool: True if all inputs are valid and non-negative, False otherwise.\n",
    "\n",
    "    Note:\n",
    "        - This function checks the validity of the inputs in the custom Genesis block format.\n",
    "        - It validates the structure, types, and non-negativity of fields according to the provided format.\n",
    "        - Additional checks can be added for specific requirements.\n",
    "    \"\"\"\n",
    "\n",
    "    # Check if the Genesis block contains the expected keys (AMM, Trader, LP)\n",
    "    expected_keys = [\"AMM\", \"Trader\", \"LP\"]\n",
    "    for key in expected_keys:\n",
    "        if key not in genesis_block:\n",
    "            return False\n",
    "\n",
    "    # Check the structure, types, and non-negativity of subfields within each key\n",
    "    for key, sub_data in genesis_block.items():\n",
    "        if not isinstance(sub_data, dict):\n",
    "            return False\n",
    "\n",
    "        required_fields = [\"A1\", \"A2\", \"s\"]\n",
    "        if key == \"AMM\":\n",
    "            required_fields.append(\"fee\")\n",
    "\n",
    "        for field in required_fields:\n",
    "            if field not in sub_data:\n",
    "                return False\n",
    "\n",
    "            if not isinstance(sub_data[field], (int, float)) or sub_data[field] < 0:\n",
    "                return False\n",
    "\n",
    "    # Additional checks can be added for specific requirements\n",
    "\n",
    "    # If all checks pass, return True\n",
    "    return True\n",
    "\n",
    "# Example usage:\n",
    "# genesis_block = {...}  # Provide your custom Genesis block data\n",
    "# is_valid = check_genesis_block(genesis_block)\n",
    "# print(is_valid)  # True if the Genesis block is valid and non-negative, False otherwise\n"
   ]
  },
  {
   "cell_type": "code",
   "execution_count": 18,
   "id": "7bd87fe2",
   "metadata": {},
   "outputs": [
    {
     "data": {
      "text/plain": [
       "False"
      ]
     },
     "execution_count": 18,
     "metadata": {},
     "output_type": "execute_result"
    }
   ],
   "source": [
    "genesis = {\n",
    "    \"AMM\":{\"A1\":-100,\"A2\":100,\"s\":100,\"fee\":0.0},\n",
    "    \"Trader\":{\"A1\":100,\"A2\":100,\"s\":0},\n",
    "    \"LP\":{\"A1\":0,\"A2\":0,\"s\":100}\n",
    "    }\n",
    "\n",
    "check_genesis_block(genesis)"
   ]
  },
  {
   "cell_type": "code",
   "execution_count": 19,
   "id": "658a31ce",
   "metadata": {},
   "outputs": [
    {
     "data": {
      "text/plain": [
       "{'AMM': {'A1': -100, 'A2': 100, 's': 100, 'fee': 1},\n",
       " 'Trader': {'A1': 100, 'A2': 100, 's': 0},\n",
       " 'LP': {'A1': 0, 'A2': 0, 's': 100}}"
      ]
     },
     "execution_count": 19,
     "metadata": {},
     "output_type": "execute_result"
    }
   ],
   "source": [
    "def update_pool_fees(state, updated_fee):\n",
    "    # update the pool fees in the state\n",
    "    state[\"AMM\"][\"fee\"]=updated_fee\n",
    "    \n",
    "    return genesis\n",
    "\n",
    "update_pool_fees(genesis, 1)"
   ]
  },
  {
   "cell_type": "code",
   "execution_count": 20,
   "id": "b814b5fc",
   "metadata": {},
   "outputs": [],
   "source": [
    "def swapToAsset2_percent(state, inputs):\n",
    "    \"\"\"\n",
    "    Swap a percent\n",
    "    \"\"\"\n",
    "    # Extract agent name and desired amount of Asset1 from inputs\n",
    "    agent = inputs[0]\n",
    "    \n",
    "    \n",
    "    dA1 = state[\"AMM\"][\"Value\"] * input[1]/100\n",
    "    \n",
    "#     dA1 = inputs[1]/state[\"AMM\"][\"A1\"]\n",
    "    \n",
    "    # Calculate the fee-adjusted amount of Asset2 (dA2) the agent will receive\n",
    "    feeFactor = (1 - state[\"AMM\"][\"fee\"])\n",
    "    dA2 = state[\"AMM\"][\"A2\"] / (state[\"AMM\"][\"A1\"] + dA1 * feeFactor) * dA1 * feeFactor\n",
    "    \n",
    "    # Check if the swap conditions are met and update the state accordingly\n",
    "    if dA1 > 0 and state[agent][\"A1\"] - dA1 >= 0:\n",
    "        state[\"AMM\"][\"A1\"] += dA1\n",
    "        state[agent][\"A1\"] -= dA1\n",
    "        state[\"AMM\"][\"A2\"] -= dA2\n",
    "        state[agent][\"A2\"] += dA2"
   ]
  },
  {
   "cell_type": "code",
   "execution_count": 21,
   "id": "2e725f2e",
   "metadata": {},
   "outputs": [],
   "source": [
    "def swapToAsset1_percent(state, inputs):\n",
    "    \"\"\"\n",
    "    Swap a percent\n",
    "    \"\"\"\n",
    "    # Extract agent name and desired amount of Asset1 from inputs\n",
    "    agent = inputs[0]\n",
    "    \n",
    "    # Calculate the amount of Asset2 (dA2) to swap as a percentage of the AMM's \"Value\"\n",
    "    dA2 = state[\"AMM\"][\"Value\"] * inputs[1] / 100\n",
    "    \n",
    "    # Calculate the fee-adjusted amount of Asset1 (dA1) the agent will receive in exchange for dA2\n",
    "    feeFactor = (1 - state[\"AMM\"][\"fee\"])\n",
    "    dA1 = state[\"AMM\"][\"A1\"] / (state[\"AMM\"][\"A1\"] + dA2 * feeFactor) * dA2 * feeFactor\n",
    "    \n",
    "    # Check if the swap conditions are met and update the state accordingly\n",
    "    if dA1 > 0 and state[agent][\"A1\"] - dA1 >= 0:\n",
    "        state[\"AMM\"][\"A2\"] += dA2\n",
    "        state[agent][\"A2\"] -= dA2\n",
    "        state[\"AMM\"][\"A1\"] -= dA1\n",
    "        state[agent][\"A1\"] += dA1"
   ]
  },
  {
   "cell_type": "code",
   "execution_count": 22,
   "id": "d6ad3429",
   "metadata": {},
   "outputs": [],
   "source": [
    "def invariant(state):\n",
    "    return state[\"AMM\"][\"A1\"] * state[\"AMM\"][\"A2\"]\n",
    "\n",
    "def asset1(state):\n",
    "    return state[\"AMM\"][\"A1\"]+state[\"Trader\"][\"A1\"]+state[\"LP\"][\"A1\"]\n",
    "\n",
    "def asset2(state):\n",
    "    return state[\"AMM\"][\"A2\"]+state[\"Trader\"][\"A2\"]+state[\"LP\"][\"A2\"]"
   ]
  },
  {
   "cell_type": "code",
   "execution_count": 23,
   "id": "2ac2f375",
   "metadata": {},
   "outputs": [
    {
     "data": {
      "text/plain": [
       "True"
      ]
     },
     "execution_count": 23,
     "metadata": {},
     "output_type": "execute_result"
    }
   ],
   "source": [
    "genesis = {\n",
    "    \"AMM\":{\"A1\":100,\"A2\":100,\"s\":100,\"fee\":0.0},\n",
    "    \"Trader\":{\"A1\":100,\"A2\":100,\"s\":0},\n",
    "    \"Liquidator\":{\"A1\":0,\"A2\":0,\"s\":100}\n",
    "    }\n",
    "\n",
    "state = copy.deepcopy(genesis)\n",
    "\n",
    "swapToAsset2(state,[\"Trader\",13])\n",
    "\n",
    "invariant(genesis)==invariant(state)"
   ]
  },
  {
   "cell_type": "code",
   "execution_count": 26,
   "id": "86bf87d1",
   "metadata": {},
   "outputs": [
    {
     "data": {
      "text/plain": [
       "True"
      ]
     },
     "execution_count": 26,
     "metadata": {},
     "output_type": "execute_result"
    }
   ],
   "source": [
    "# change liquidator by liquidity provider\n",
    "genesis = {\n",
    "    \"AMM\":{\"A1\":100,\"A2\":100,\"s\":100,\"fee\":0.0},\n",
    "    \"Trader\":{\"A1\":100,\"A2\":100,\"s\":0},\n",
    "    \"LP\":{\"A1\":0,\"A2\":0,\"s\":100}\n",
    "    }\n",
    "\n",
    "state = copy.deepcopy(genesis)\n",
    "\n",
    "swapToAsset1(state,[\"Trader\",13])\n",
    "\n",
    "asset1(genesis)==asset1(state) and asset2(genesis)==asset2(state)"
   ]
  }
 ],
 "metadata": {
  "kernelspec": {
   "display_name": "Python 3 (ipykernel)",
   "language": "python",
   "name": "python3"
  },
  "language_info": {
   "codemirror_mode": {
    "name": "ipython",
    "version": 3
   },
   "file_extension": ".py",
   "mimetype": "text/x-python",
   "name": "python",
   "nbconvert_exporter": "python",
   "pygments_lexer": "ipython3",
   "version": "3.10.12"
  }
 },
 "nbformat": 4,
 "nbformat_minor": 5
}
